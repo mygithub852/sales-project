{
 "cells": [
  {
   "cell_type": "markdown",
   "metadata": {},
   "source": [
    "# SALES_PROJECT"
   ]
  },
  {
   "cell_type": "code",
   "execution_count": 1,
   "metadata": {},
   "outputs": [],
   "source": [
    "# This Python 3 environment comes with many helpful analytics libraries installed\n",
    "# It is defined by the kaggle/python Docker image: https://github.com/kaggle/docker-python\n",
    "# For example, here's several helpful packages to load\n",
    "\n",
    "import numpy as np # linear algebra\n",
    "import pandas as pd # data processing, CSV file I/O (e.g. pd.read_csv)\n",
    "\n",
    "# Input data files are available in the read-only \"../input/\" directory\n",
    "# For example, running this (by clicking run or pressing Shift+Enter) will list all files under the input directory\n",
    "\n",
    "import os\n",
    "for dirname, _, filenames in os.walk('/kaggle/input'):\n",
    "    for filename in filenames:\n",
    "        print(os.path.join(dirname, filename))\n",
    "\n",
    "# You can write up to 20GB to the current directory (/kaggle/working/) that gets preserved as output when you create a version using \"Save & Run All\" \n",
    "# You can also write temporary files to /kaggle/temp/, but they won't be saved outside of the current session"
   ]
  },
  {
   "cell_type": "code",
   "execution_count": 14,
   "metadata": {},
   "outputs": [],
   "source": [
    "# Supress Warnings\n",
    "\n",
    "import warnings\n",
    "warnings.filterwarnings('ignore')\n",
    "\n",
    "# Import the numpy and pandas package\n",
    "\n",
    "import numpy as np\n",
    "import pandas as pd\n",
    "\n",
    "# Data Visualisation\n",
    "import matplotlib.pyplot as plt \n",
    "import seaborn as sns"
   ]
  },
  {
   "cell_type": "markdown",
   "metadata": {},
   "source": [
    "Business Problems"
   ]
  },
  {
   "cell_type": "markdown",
   "metadata": {},
   "source": [
    "For example:"
   ]
  },
  {
   "cell_type": "markdown",
   "metadata": {},
   "source": [
    "How should we allocate our limited marketing budget for next year?\n",
    "What type on influencers should we focus on?\n",
    "Can we cut budget from TV, as it is too expensive?\n",
    "Finally, set your assumptions of the marketing budget and influencer (if any). Can you try to predict the expected sales based on the best ML model?\n"
   ]
  },
  {
   "cell_type": "markdown",
   "metadata": {},
   "source": [
    "Importing the Libraries"
   ]
  },
  {
   "cell_type": "code",
   "execution_count": 2,
   "metadata": {},
   "outputs": [],
   "source": [
    "import pandas as pd\n",
    "import numpy as np\n",
    "import matplotlib.pyplot as plt\n",
    "from sklearn.model_selection import train_test_split\n",
    "from sklearn.linear_model import LinearRegression\n",
    "from sklearn.ensemble import RandomForestRegressor\n",
    "from sklearn.svm import SVR\n",
    "from sklearn.tree import DecisionTreeRegressor\n",
    "from sklearn.preprocessing import PolynomialFeatures\n",
    "from sklearn.preprocessing import StandardScaler\n",
    "from sklearn.metrics import r2_score\n",
    "from sklearn.metrics import mean_squared_error as mse"
   ]
  },
  {
   "cell_type": "code",
   "execution_count": 3,
   "metadata": {},
   "outputs": [
    {
     "data": {
      "text/html": [
       "<div>\n",
       "<style scoped>\n",
       "    .dataframe tbody tr th:only-of-type {\n",
       "        vertical-align: middle;\n",
       "    }\n",
       "\n",
       "    .dataframe tbody tr th {\n",
       "        vertical-align: top;\n",
       "    }\n",
       "\n",
       "    .dataframe thead th {\n",
       "        text-align: right;\n",
       "    }\n",
       "</style>\n",
       "<table border=\"1\" class=\"dataframe\">\n",
       "  <thead>\n",
       "    <tr style=\"text-align: right;\">\n",
       "      <th></th>\n",
       "      <th>Unnamed: 0</th>\n",
       "      <th>TV</th>\n",
       "      <th>radio</th>\n",
       "      <th>newspaper</th>\n",
       "      <th>sales</th>\n",
       "    </tr>\n",
       "  </thead>\n",
       "  <tbody>\n",
       "    <tr>\n",
       "      <th>0</th>\n",
       "      <td>1</td>\n",
       "      <td>230.1</td>\n",
       "      <td>37.8</td>\n",
       "      <td>69.2</td>\n",
       "      <td>22.1</td>\n",
       "    </tr>\n",
       "    <tr>\n",
       "      <th>1</th>\n",
       "      <td>2</td>\n",
       "      <td>44.5</td>\n",
       "      <td>39.3</td>\n",
       "      <td>45.1</td>\n",
       "      <td>10.4</td>\n",
       "    </tr>\n",
       "    <tr>\n",
       "      <th>2</th>\n",
       "      <td>3</td>\n",
       "      <td>17.2</td>\n",
       "      <td>45.9</td>\n",
       "      <td>69.3</td>\n",
       "      <td>9.3</td>\n",
       "    </tr>\n",
       "    <tr>\n",
       "      <th>3</th>\n",
       "      <td>4</td>\n",
       "      <td>151.5</td>\n",
       "      <td>41.3</td>\n",
       "      <td>58.5</td>\n",
       "      <td>18.5</td>\n",
       "    </tr>\n",
       "    <tr>\n",
       "      <th>4</th>\n",
       "      <td>5</td>\n",
       "      <td>180.8</td>\n",
       "      <td>10.8</td>\n",
       "      <td>58.4</td>\n",
       "      <td>12.9</td>\n",
       "    </tr>\n",
       "  </tbody>\n",
       "</table>\n",
       "</div>"
      ],
      "text/plain": [
       "   Unnamed: 0     TV  radio  newspaper  sales\n",
       "0           1  230.1   37.8       69.2   22.1\n",
       "1           2   44.5   39.3       45.1   10.4\n",
       "2           3   17.2   45.9       69.3    9.3\n",
       "3           4  151.5   41.3       58.5   18.5\n",
       "4           5  180.8   10.8       58.4   12.9"
      ]
     },
     "execution_count": 3,
     "metadata": {},
     "output_type": "execute_result"
    }
   ],
   "source": [
    "df = pd.read_csv('https://raw.githubusercontent.com/dsrscientist/DSData/master/Advertising.csv')\n",
    "df.head()"
   ]
  },
  {
   "cell_type": "code",
   "execution_count": 4,
   "metadata": {},
   "outputs": [
    {
     "name": "stdout",
     "output_type": "stream",
     "text": [
      "<class 'pandas.core.frame.DataFrame'>\n",
      "RangeIndex: 200 entries, 0 to 199\n",
      "Data columns (total 5 columns):\n",
      " #   Column      Non-Null Count  Dtype  \n",
      "---  ------      --------------  -----  \n",
      " 0   Unnamed: 0  200 non-null    int64  \n",
      " 1   TV          200 non-null    float64\n",
      " 2   radio       200 non-null    float64\n",
      " 3   newspaper   200 non-null    float64\n",
      " 4   sales       200 non-null    float64\n",
      "dtypes: float64(4), int64(1)\n",
      "memory usage: 7.9 KB\n"
     ]
    }
   ],
   "source": [
    "df.info()"
   ]
  },
  {
   "cell_type": "markdown",
   "metadata": {},
   "source": [
    "We can see there are mising data in several columns. Thus, we want to fill the missing data with its average, as follows:"
   ]
  },
  {
   "cell_type": "code",
   "execution_count": 5,
   "metadata": {},
   "outputs": [
    {
     "name": "stdout",
     "output_type": "stream",
     "text": [
      "<class 'pandas.core.frame.DataFrame'>\n",
      "RangeIndex: 200 entries, 0 to 199\n",
      "Data columns (total 5 columns):\n",
      " #   Column      Non-Null Count  Dtype  \n",
      "---  ------      --------------  -----  \n",
      " 0   Unnamed: 0  200 non-null    int64  \n",
      " 1   TV          200 non-null    float64\n",
      " 2   radio       200 non-null    float64\n",
      " 3   newspaper   200 non-null    float64\n",
      " 4   sales       200 non-null    float64\n",
      "dtypes: float64(4), int64(1)\n",
      "memory usage: 7.9 KB\n"
     ]
    }
   ],
   "source": [
    "df = df.fillna(df.mean()) # updates the df\n",
    "\n",
    "# see the updated df info\n",
    "\n",
    "df.info()"
   ]
  },
  {
   "cell_type": "markdown",
   "metadata": {},
   "source": [
    "Now we have a dataframe that has no missing values. Now, we want to encode the categorical variable to dummy variables, as follows:"
   ]
  },
  {
   "cell_type": "code",
   "execution_count": 6,
   "metadata": {},
   "outputs": [
    {
     "data": {
      "text/html": [
       "<div>\n",
       "<style scoped>\n",
       "    .dataframe tbody tr th:only-of-type {\n",
       "        vertical-align: middle;\n",
       "    }\n",
       "\n",
       "    .dataframe tbody tr th {\n",
       "        vertical-align: top;\n",
       "    }\n",
       "\n",
       "    .dataframe thead th {\n",
       "        text-align: right;\n",
       "    }\n",
       "</style>\n",
       "<table border=\"1\" class=\"dataframe\">\n",
       "  <thead>\n",
       "    <tr style=\"text-align: right;\">\n",
       "      <th></th>\n",
       "      <th>Unnamed: 0</th>\n",
       "      <th>TV</th>\n",
       "      <th>radio</th>\n",
       "      <th>newspaper</th>\n",
       "      <th>sales</th>\n",
       "    </tr>\n",
       "  </thead>\n",
       "  <tbody>\n",
       "    <tr>\n",
       "      <th>0</th>\n",
       "      <td>1</td>\n",
       "      <td>230.1</td>\n",
       "      <td>37.8</td>\n",
       "      <td>69.2</td>\n",
       "      <td>22.1</td>\n",
       "    </tr>\n",
       "    <tr>\n",
       "      <th>1</th>\n",
       "      <td>2</td>\n",
       "      <td>44.5</td>\n",
       "      <td>39.3</td>\n",
       "      <td>45.1</td>\n",
       "      <td>10.4</td>\n",
       "    </tr>\n",
       "    <tr>\n",
       "      <th>2</th>\n",
       "      <td>3</td>\n",
       "      <td>17.2</td>\n",
       "      <td>45.9</td>\n",
       "      <td>69.3</td>\n",
       "      <td>9.3</td>\n",
       "    </tr>\n",
       "    <tr>\n",
       "      <th>3</th>\n",
       "      <td>4</td>\n",
       "      <td>151.5</td>\n",
       "      <td>41.3</td>\n",
       "      <td>58.5</td>\n",
       "      <td>18.5</td>\n",
       "    </tr>\n",
       "    <tr>\n",
       "      <th>4</th>\n",
       "      <td>5</td>\n",
       "      <td>180.8</td>\n",
       "      <td>10.8</td>\n",
       "      <td>58.4</td>\n",
       "      <td>12.9</td>\n",
       "    </tr>\n",
       "    <tr>\n",
       "      <th>...</th>\n",
       "      <td>...</td>\n",
       "      <td>...</td>\n",
       "      <td>...</td>\n",
       "      <td>...</td>\n",
       "      <td>...</td>\n",
       "    </tr>\n",
       "    <tr>\n",
       "      <th>195</th>\n",
       "      <td>196</td>\n",
       "      <td>38.2</td>\n",
       "      <td>3.7</td>\n",
       "      <td>13.8</td>\n",
       "      <td>7.6</td>\n",
       "    </tr>\n",
       "    <tr>\n",
       "      <th>196</th>\n",
       "      <td>197</td>\n",
       "      <td>94.2</td>\n",
       "      <td>4.9</td>\n",
       "      <td>8.1</td>\n",
       "      <td>9.7</td>\n",
       "    </tr>\n",
       "    <tr>\n",
       "      <th>197</th>\n",
       "      <td>198</td>\n",
       "      <td>177.0</td>\n",
       "      <td>9.3</td>\n",
       "      <td>6.4</td>\n",
       "      <td>12.8</td>\n",
       "    </tr>\n",
       "    <tr>\n",
       "      <th>198</th>\n",
       "      <td>199</td>\n",
       "      <td>283.6</td>\n",
       "      <td>42.0</td>\n",
       "      <td>66.2</td>\n",
       "      <td>25.5</td>\n",
       "    </tr>\n",
       "    <tr>\n",
       "      <th>199</th>\n",
       "      <td>200</td>\n",
       "      <td>232.1</td>\n",
       "      <td>8.6</td>\n",
       "      <td>8.7</td>\n",
       "      <td>13.4</td>\n",
       "    </tr>\n",
       "  </tbody>\n",
       "</table>\n",
       "<p>200 rows × 5 columns</p>\n",
       "</div>"
      ],
      "text/plain": [
       "     Unnamed: 0     TV  radio  newspaper  sales\n",
       "0             1  230.1   37.8       69.2   22.1\n",
       "1             2   44.5   39.3       45.1   10.4\n",
       "2             3   17.2   45.9       69.3    9.3\n",
       "3             4  151.5   41.3       58.5   18.5\n",
       "4             5  180.8   10.8       58.4   12.9\n",
       "..          ...    ...    ...        ...    ...\n",
       "195         196   38.2    3.7       13.8    7.6\n",
       "196         197   94.2    4.9        8.1    9.7\n",
       "197         198  177.0    9.3        6.4   12.8\n",
       "198         199  283.6   42.0       66.2   25.5\n",
       "199         200  232.1    8.6        8.7   13.4\n",
       "\n",
       "[200 rows x 5 columns]"
      ]
     },
     "execution_count": 6,
     "metadata": {},
     "output_type": "execute_result"
    }
   ],
   "source": [
    "df = pd.get_dummies(df) # updates the df again\n",
    "\n",
    "# see the updated df\n",
    "\n",
    "df"
   ]
  },
  {
   "cell_type": "code",
   "execution_count": 7,
   "metadata": {},
   "outputs": [
    {
     "data": {
      "text/plain": [
       "Index(['Unnamed: 0', 'TV', 'radio', 'newspaper', 'sales'], dtype='object')"
      ]
     },
     "execution_count": 7,
     "metadata": {},
     "output_type": "execute_result"
    }
   ],
   "source": [
    "df.columns # getting the column names"
   ]
  },
  {
   "cell_type": "code",
   "execution_count": 10,
   "metadata": {},
   "outputs": [
    {
     "data": {
      "text/html": [
       "<div>\n",
       "<style scoped>\n",
       "    .dataframe tbody tr th:only-of-type {\n",
       "        vertical-align: middle;\n",
       "    }\n",
       "\n",
       "    .dataframe tbody tr th {\n",
       "        vertical-align: top;\n",
       "    }\n",
       "\n",
       "    .dataframe thead th {\n",
       "        text-align: right;\n",
       "    }\n",
       "</style>\n",
       "<table border=\"1\" class=\"dataframe\">\n",
       "  <thead>\n",
       "    <tr style=\"text-align: right;\">\n",
       "      <th></th>\n",
       "      <th>TV</th>\n",
       "      <th>radio</th>\n",
       "      <th>newspaper</th>\n",
       "      <th>sales</th>\n",
       "    </tr>\n",
       "  </thead>\n",
       "  <tbody>\n",
       "    <tr>\n",
       "      <th>0</th>\n",
       "      <td>230.1</td>\n",
       "      <td>37.8</td>\n",
       "      <td>69.2</td>\n",
       "      <td>22.1</td>\n",
       "    </tr>\n",
       "    <tr>\n",
       "      <th>1</th>\n",
       "      <td>44.5</td>\n",
       "      <td>39.3</td>\n",
       "      <td>45.1</td>\n",
       "      <td>10.4</td>\n",
       "    </tr>\n",
       "    <tr>\n",
       "      <th>2</th>\n",
       "      <td>17.2</td>\n",
       "      <td>45.9</td>\n",
       "      <td>69.3</td>\n",
       "      <td>9.3</td>\n",
       "    </tr>\n",
       "    <tr>\n",
       "      <th>3</th>\n",
       "      <td>151.5</td>\n",
       "      <td>41.3</td>\n",
       "      <td>58.5</td>\n",
       "      <td>18.5</td>\n",
       "    </tr>\n",
       "    <tr>\n",
       "      <th>4</th>\n",
       "      <td>180.8</td>\n",
       "      <td>10.8</td>\n",
       "      <td>58.4</td>\n",
       "      <td>12.9</td>\n",
       "    </tr>\n",
       "  </tbody>\n",
       "</table>\n",
       "</div>"
      ],
      "text/plain": [
       "      TV  radio  newspaper  sales\n",
       "0  230.1   37.8       69.2   22.1\n",
       "1   44.5   39.3       45.1   10.4\n",
       "2   17.2   45.9       69.3    9.3\n",
       "3  151.5   41.3       58.5   18.5\n",
       "4  180.8   10.8       58.4   12.9"
      ]
     },
     "execution_count": 10,
     "metadata": {},
     "output_type": "execute_result"
    }
   ],
   "source": [
    "df = df[['TV', 'radio', 'newspaper', 'sales']]\n",
    "\n",
    "# see the updated df\n",
    "\n",
    "df.head()"
   ]
  },
  {
   "cell_type": "markdown",
   "metadata": {},
   "source": [
    "Out of curiosity, we just want to explore whether there is any correlation of Sales with its predictors:"
   ]
  },
  {
   "cell_type": "code",
   "execution_count": 11,
   "metadata": {},
   "outputs": [
    {
     "data": {
      "text/html": [
       "<div>\n",
       "<style scoped>\n",
       "    .dataframe tbody tr th:only-of-type {\n",
       "        vertical-align: middle;\n",
       "    }\n",
       "\n",
       "    .dataframe tbody tr th {\n",
       "        vertical-align: top;\n",
       "    }\n",
       "\n",
       "    .dataframe thead th {\n",
       "        text-align: right;\n",
       "    }\n",
       "</style>\n",
       "<table border=\"1\" class=\"dataframe\">\n",
       "  <thead>\n",
       "    <tr style=\"text-align: right;\">\n",
       "      <th></th>\n",
       "      <th>TV</th>\n",
       "      <th>radio</th>\n",
       "      <th>newspaper</th>\n",
       "      <th>sales</th>\n",
       "    </tr>\n",
       "  </thead>\n",
       "  <tbody>\n",
       "    <tr>\n",
       "      <th>TV</th>\n",
       "      <td>1.000000</td>\n",
       "      <td>0.054809</td>\n",
       "      <td>0.056648</td>\n",
       "      <td>0.782224</td>\n",
       "    </tr>\n",
       "    <tr>\n",
       "      <th>radio</th>\n",
       "      <td>0.054809</td>\n",
       "      <td>1.000000</td>\n",
       "      <td>0.354104</td>\n",
       "      <td>0.576223</td>\n",
       "    </tr>\n",
       "    <tr>\n",
       "      <th>newspaper</th>\n",
       "      <td>0.056648</td>\n",
       "      <td>0.354104</td>\n",
       "      <td>1.000000</td>\n",
       "      <td>0.228299</td>\n",
       "    </tr>\n",
       "    <tr>\n",
       "      <th>sales</th>\n",
       "      <td>0.782224</td>\n",
       "      <td>0.576223</td>\n",
       "      <td>0.228299</td>\n",
       "      <td>1.000000</td>\n",
       "    </tr>\n",
       "  </tbody>\n",
       "</table>\n",
       "</div>"
      ],
      "text/plain": [
       "                 TV     radio  newspaper     sales\n",
       "TV         1.000000  0.054809   0.056648  0.782224\n",
       "radio      0.054809  1.000000   0.354104  0.576223\n",
       "newspaper  0.056648  0.354104   1.000000  0.228299\n",
       "sales      0.782224  0.576223   0.228299  1.000000"
      ]
     },
     "execution_count": 11,
     "metadata": {},
     "output_type": "execute_result"
    }
   ],
   "source": [
    "df.corr()"
   ]
  },
  {
   "cell_type": "markdown",
   "metadata": {},
   "source": [
    "Now we have a clean data. Now, we will create the independent and dependent variables (x and y), as follows:"
   ]
  },
  {
   "cell_type": "code",
   "execution_count": 16,
   "metadata": {},
   "outputs": [
    {
     "data": {
      "image/png": "[encoded data removed]",
      "text/plain": [
       "<Figure size 360x360 with 3 Axes>"
      ]
     },
     "metadata": {
      "needs_background": "light"
     },
     "output_type": "display_data"
    }
   ],
   "source": [
    "# Outlier Analysis\n",
    "fig, axs = plt.subplots(3, figsize = (5,5))\n",
    "plt1 = sns.boxplot(df['TV'], ax = axs[0])\n",
    "plt2 = sns.boxplot(df['newspaper'], ax = axs[1])\n",
    "plt3 = sns.boxplot(df['radio'], ax = axs[2])\n",
    "plt.tight_layout()"
   ]
  },
  {
   "cell_type": "markdown",
   "metadata": {},
   "source": [
    "Exploratory Data Analysis"
   ]
  },
  {
   "cell_type": "markdown",
   "metadata": {},
   "source": [
    "Univariate Analysis"
   ]
  },
  {
   "cell_type": "code",
   "execution_count": 18,
   "metadata": {},
   "outputs": [
    {
     "data": {
      "image/png": "[encoded data removed]",
      "text/plain": [
       "<Figure size 432x288 with 1 Axes>"
      ]
     },
     "metadata": {
      "needs_background": "light"
     },
     "output_type": "display_data"
    }
   ],
   "source": [
    "sns.boxplot(df['sales'])\n",
    "plt.show()\n"
   ]
  },
  {
   "cell_type": "code",
   "execution_count": 19,
   "metadata": {},
   "outputs": [
    {
     "data": {
      "image/png": "[encoded data removed]",
      "text/plain": [
       "<Figure size 864x288 with 3 Axes>"
      ]
     },
     "metadata": {
      "needs_background": "light"
     },
     "output_type": "display_data"
    }
   ],
   "source": [
    "# Let's see how Sales are related with other variables using scatter plot.\n",
    "sns.pairplot(df, x_vars=['TV', 'newspaper', 'radio'], y_vars='sales', height=4, aspect=1, kind='scatter')\n",
    "plt.show()"
   ]
  },
  {
   "cell_type": "code",
   "execution_count": 20,
   "metadata": {},
   "outputs": [
    {
     "data": {
      "image/png": "[encoded data removed]",
      "text/plain": [
       "<Figure size 432x288 with 2 Axes>"
      ]
     },
     "metadata": {
      "needs_background": "light"
     },
     "output_type": "display_data"
    }
   ],
   "source": [
    "# Let's see the correlation between different variables.\n",
    "sns.heatmap(df.corr(), cmap=\"YlGnBu\", annot = True)\n",
    "plt.show()"
   ]
  },
  {
   "cell_type": "code",
   "execution_count": 21,
   "metadata": {},
   "outputs": [],
   "source": [
    "x = df.iloc[:,0:-1].values\n",
    "y = df.iloc[:,-1:].values"
   ]
  },
  {
   "cell_type": "code",
   "execution_count": 22,
   "metadata": {},
   "outputs": [
    {
     "name": "stdout",
     "output_type": "stream",
     "text": [
      "[[230.1  37.8  69.2]\n",
      " [ 44.5  39.3  45.1]\n",
      " [ 17.2  45.9  69.3]\n",
      " [151.5  41.3  58.5]\n",
      " [180.8  10.8  58.4]\n",
      " [  8.7  48.9  75. ]\n",
      " [ 57.5  32.8  23.5]\n",
      " [120.2  19.6  11.6]\n",
      " [  8.6   2.1   1. ]\n",
      " [199.8   2.6  21.2]\n",
      " [ 66.1   5.8  24.2]\n",
      " [214.7  24.    4. ]\n",
      " [ 23.8  35.1  65.9]\n",
      " [ 97.5   7.6   7.2]\n",
      " [204.1  32.9  46. ]\n",
      " [195.4  47.7  52.9]\n",
      " [ 67.8  36.6 114. ]\n",
      " [281.4  39.6  55.8]\n",
      " [ 69.2  20.5  18.3]\n",
      " [147.3  23.9  19.1]\n",
      " [218.4  27.7  53.4]\n",
      " [237.4   5.1  23.5]\n",
      " [ 13.2  15.9  49.6]\n",
      " [228.3  16.9  26.2]\n",
      " [ 62.3  12.6  18.3]\n",
      " [262.9   3.5  19.5]\n",
      " [142.9  29.3  12.6]\n",
      " [240.1  16.7  22.9]\n",
      " [248.8  27.1  22.9]\n",
      " [ 70.6  16.   40.8]\n",
      " [292.9  28.3  43.2]\n",
      " [112.9  17.4  38.6]\n",
      " [ 97.2   1.5  30. ]\n",
      " [265.6  20.    0.3]\n",
      " [ 95.7   1.4   7.4]\n",
      " [290.7   4.1   8.5]\n",
      " [266.9  43.8   5. ]\n",
      " [ 74.7  49.4  45.7]\n",
      " [ 43.1  26.7  35.1]\n",
      " [228.   37.7  32. ]\n",
      " [202.5  22.3  31.6]\n",
      " [177.   33.4  38.7]\n",
      " [293.6  27.7   1.8]\n",
      " [206.9   8.4  26.4]\n",
      " [ 25.1  25.7  43.3]\n",
      " [175.1  22.5  31.5]\n",
      " [ 89.7   9.9  35.7]\n",
      " [239.9  41.5  18.5]\n",
      " [227.2  15.8  49.9]\n",
      " [ 66.9  11.7  36.8]\n",
      " [199.8   3.1  34.6]\n",
      " [100.4   9.6   3.6]\n",
      " [216.4  41.7  39.6]\n",
      " [182.6  46.2  58.7]\n",
      " [262.7  28.8  15.9]\n",
      " [198.9  49.4  60. ]\n",
      " [  7.3  28.1  41.4]\n",
      " [136.2  19.2  16.6]\n",
      " [210.8  49.6  37.7]\n",
      " [210.7  29.5   9.3]\n",
      " [ 53.5   2.   21.4]\n",
      " [261.3  42.7  54.7]\n",
      " [239.3  15.5  27.3]\n",
      " [102.7  29.6   8.4]\n",
      " [131.1  42.8  28.9]\n",
      " [ 69.    9.3   0.9]\n",
      " [ 31.5  24.6   2.2]\n",
      " [139.3  14.5  10.2]\n",
      " [237.4  27.5  11. ]\n",
      " [216.8  43.9  27.2]\n",
      " [199.1  30.6  38.7]\n",
      " [109.8  14.3  31.7]\n",
      " [ 26.8  33.   19.3]\n",
      " [129.4   5.7  31.3]\n",
      " [213.4  24.6  13.1]\n",
      " [ 16.9  43.7  89.4]\n",
      " [ 27.5   1.6  20.7]\n",
      " [120.5  28.5  14.2]\n",
      " [  5.4  29.9   9.4]\n",
      " [116.    7.7  23.1]\n",
      " [ 76.4  26.7  22.3]\n",
      " [239.8   4.1  36.9]\n",
      " [ 75.3  20.3  32.5]\n",
      " [ 68.4  44.5  35.6]\n",
      " [213.5  43.   33.8]\n",
      " [193.2  18.4  65.7]\n",
      " [ 76.3  27.5  16. ]\n",
      " [110.7  40.6  63.2]\n",
      " [ 88.3  25.5  73.4]\n",
      " [109.8  47.8  51.4]\n",
      " [134.3   4.9   9.3]\n",
      " [ 28.6   1.5  33. ]\n",
      " [217.7  33.5  59. ]\n",
      " [250.9  36.5  72.3]\n",
      " [107.4  14.   10.9]\n",
      " [163.3  31.6  52.9]\n",
      " [197.6   3.5   5.9]\n",
      " [184.9  21.   22. ]\n",
      " [289.7  42.3  51.2]\n",
      " [135.2  41.7  45.9]\n",
      " [222.4   4.3  49.8]\n",
      " [296.4  36.3 100.9]\n",
      " [280.2  10.1  21.4]\n",
      " [187.9  17.2  17.9]\n",
      " [238.2  34.3   5.3]\n",
      " [137.9  46.4  59. ]\n",
      " [ 25.   11.   29.7]\n",
      " [ 90.4   0.3  23.2]\n",
      " [ 13.1   0.4  25.6]\n",
      " [255.4  26.9   5.5]\n",
      " [225.8   8.2  56.5]\n",
      " [241.7  38.   23.2]\n",
      " [175.7  15.4   2.4]\n",
      " [209.6  20.6  10.7]\n",
      " [ 78.2  46.8  34.5]\n",
      " [ 75.1  35.   52.7]\n",
      " [139.2  14.3  25.6]\n",
      " [ 76.4   0.8  14.8]\n",
      " [125.7  36.9  79.2]\n",
      " [ 19.4  16.   22.3]\n",
      " [141.3  26.8  46.2]\n",
      " [ 18.8  21.7  50.4]\n",
      " [224.    2.4  15.6]\n",
      " [123.1  34.6  12.4]\n",
      " [229.5  32.3  74.2]\n",
      " [ 87.2  11.8  25.9]\n",
      " [  7.8  38.9  50.6]\n",
      " [ 80.2   0.    9.2]\n",
      " [220.3  49.    3.2]\n",
      " [ 59.6  12.   43.1]\n",
      " [  0.7  39.6   8.7]\n",
      " [265.2   2.9  43. ]\n",
      " [  8.4  27.2   2.1]\n",
      " [219.8  33.5  45.1]\n",
      " [ 36.9  38.6  65.6]\n",
      " [ 48.3  47.    8.5]\n",
      " [ 25.6  39.    9.3]\n",
      " [273.7  28.9  59.7]\n",
      " [ 43.   25.9  20.5]\n",
      " [184.9  43.9   1.7]\n",
      " [ 73.4  17.   12.9]\n",
      " [193.7  35.4  75.6]\n",
      " [220.5  33.2  37.9]\n",
      " [104.6   5.7  34.4]\n",
      " [ 96.2  14.8  38.9]\n",
      " [140.3   1.9   9. ]\n",
      " [240.1   7.3   8.7]\n",
      " [243.2  49.   44.3]\n",
      " [ 38.   40.3  11.9]\n",
      " [ 44.7  25.8  20.6]\n",
      " [280.7  13.9  37. ]\n",
      " [121.    8.4  48.7]\n",
      " [197.6  23.3  14.2]\n",
      " [171.3  39.7  37.7]\n",
      " [187.8  21.1   9.5]\n",
      " [  4.1  11.6   5.7]\n",
      " [ 93.9  43.5  50.5]\n",
      " [149.8   1.3  24.3]\n",
      " [ 11.7  36.9  45.2]\n",
      " [131.7  18.4  34.6]\n",
      " [172.5  18.1  30.7]\n",
      " [ 85.7  35.8  49.3]\n",
      " [188.4  18.1  25.6]\n",
      " [163.5  36.8   7.4]\n",
      " [117.2  14.7   5.4]\n",
      " [234.5   3.4  84.8]\n",
      " [ 17.9  37.6  21.6]\n",
      " [206.8   5.2  19.4]\n",
      " [215.4  23.6  57.6]\n",
      " [284.3  10.6   6.4]\n",
      " [ 50.   11.6  18.4]\n",
      " [164.5  20.9  47.4]\n",
      " [ 19.6  20.1  17. ]\n",
      " [168.4   7.1  12.8]\n",
      " [222.4   3.4  13.1]\n",
      " [276.9  48.9  41.8]\n",
      " [248.4  30.2  20.3]\n",
      " [170.2   7.8  35.2]\n",
      " [276.7   2.3  23.7]\n",
      " [165.6  10.   17.6]\n",
      " [156.6   2.6   8.3]\n",
      " [218.5   5.4  27.4]\n",
      " [ 56.2   5.7  29.7]\n",
      " [287.6  43.   71.8]\n",
      " [253.8  21.3  30. ]\n",
      " [205.   45.1  19.6]\n",
      " [139.5   2.1  26.6]\n",
      " [191.1  28.7  18.2]\n",
      " [286.   13.9   3.7]\n",
      " [ 18.7  12.1  23.4]\n",
      " [ 39.5  41.1   5.8]\n",
      " [ 75.5  10.8   6. ]\n",
      " [ 17.2   4.1  31.6]\n",
      " [166.8  42.    3.6]\n",
      " [149.7  35.6   6. ]\n",
      " [ 38.2   3.7  13.8]\n",
      " [ 94.2   4.9   8.1]\n",
      " [177.    9.3   6.4]\n",
      " [283.6  42.   66.2]\n",
      " [232.1   8.6   8.7]]\n",
      "[[22.1]\n",
      " [10.4]\n",
      " [ 9.3]\n",
      " [18.5]\n",
      " [12.9]\n",
      " [ 7.2]\n",
      " [11.8]\n",
      " [13.2]\n",
      " [ 4.8]\n",
      " [10.6]\n",
      " [ 8.6]\n",
      " [17.4]\n",
      " [ 9.2]\n",
      " [ 9.7]\n",
      " [19. ]\n",
      " [22.4]\n",
      " [12.5]\n",
      " [24.4]\n",
      " [11.3]\n",
      " [14.6]\n",
      " [18. ]\n",
      " [12.5]\n",
      " [ 5.6]\n",
      " [15.5]\n",
      " [ 9.7]\n",
      " [12. ]\n",
      " [15. ]\n",
      " [15.9]\n",
      " [18.9]\n",
      " [10.5]\n",
      " [21.4]\n",
      " [11.9]\n",
      " [ 9.6]\n",
      " [17.4]\n",
      " [ 9.5]\n",
      " [12.8]\n",
      " [25.4]\n",
      " [14.7]\n",
      " [10.1]\n",
      " [21.5]\n",
      " [16.6]\n",
      " [17.1]\n",
      " [20.7]\n",
      " [12.9]\n",
      " [ 8.5]\n",
      " [14.9]\n",
      " [10.6]\n",
      " [23.2]\n",
      " [14.8]\n",
      " [ 9.7]\n",
      " [11.4]\n",
      " [10.7]\n",
      " [22.6]\n",
      " [21.2]\n",
      " [20.2]\n",
      " [23.7]\n",
      " [ 5.5]\n",
      " [13.2]\n",
      " [23.8]\n",
      " [18.4]\n",
      " [ 8.1]\n",
      " [24.2]\n",
      " [15.7]\n",
      " [14. ]\n",
      " [18. ]\n",
      " [ 9.3]\n",
      " [ 9.5]\n",
      " [13.4]\n",
      " [18.9]\n",
      " [22.3]\n",
      " [18.3]\n",
      " [12.4]\n",
      " [ 8.8]\n",
      " [11. ]\n",
      " [17. ]\n",
      " [ 8.7]\n",
      " [ 6.9]\n",
      " [14.2]\n",
      " [ 5.3]\n",
      " [11. ]\n",
      " [11.8]\n",
      " [12.3]\n",
      " [11.3]\n",
      " [13.6]\n",
      " [21.7]\n",
      " [15.2]\n",
      " [12. ]\n",
      " [16. ]\n",
      " [12.9]\n",
      " [16.7]\n",
      " [11.2]\n",
      " [ 7.3]\n",
      " [19.4]\n",
      " [22.2]\n",
      " [11.5]\n",
      " [16.9]\n",
      " [11.7]\n",
      " [15.5]\n",
      " [25.4]\n",
      " [17.2]\n",
      " [11.7]\n",
      " [23.8]\n",
      " [14.8]\n",
      " [14.7]\n",
      " [20.7]\n",
      " [19.2]\n",
      " [ 7.2]\n",
      " [ 8.7]\n",
      " [ 5.3]\n",
      " [19.8]\n",
      " [13.4]\n",
      " [21.8]\n",
      " [14.1]\n",
      " [15.9]\n",
      " [14.6]\n",
      " [12.6]\n",
      " [12.2]\n",
      " [ 9.4]\n",
      " [15.9]\n",
      " [ 6.6]\n",
      " [15.5]\n",
      " [ 7. ]\n",
      " [11.6]\n",
      " [15.2]\n",
      " [19.7]\n",
      " [10.6]\n",
      " [ 6.6]\n",
      " [ 8.8]\n",
      " [24.7]\n",
      " [ 9.7]\n",
      " [ 1.6]\n",
      " [12.7]\n",
      " [ 5.7]\n",
      " [19.6]\n",
      " [10.8]\n",
      " [11.6]\n",
      " [ 9.5]\n",
      " [20.8]\n",
      " [ 9.6]\n",
      " [20.7]\n",
      " [10.9]\n",
      " [19.2]\n",
      " [20.1]\n",
      " [10.4]\n",
      " [11.4]\n",
      " [10.3]\n",
      " [13.2]\n",
      " [25.4]\n",
      " [10.9]\n",
      " [10.1]\n",
      " [16.1]\n",
      " [11.6]\n",
      " [16.6]\n",
      " [19. ]\n",
      " [15.6]\n",
      " [ 3.2]\n",
      " [15.3]\n",
      " [10.1]\n",
      " [ 7.3]\n",
      " [12.9]\n",
      " [14.4]\n",
      " [13.3]\n",
      " [14.9]\n",
      " [18. ]\n",
      " [11.9]\n",
      " [11.9]\n",
      " [ 8. ]\n",
      " [12.2]\n",
      " [17.1]\n",
      " [15. ]\n",
      " [ 8.4]\n",
      " [14.5]\n",
      " [ 7.6]\n",
      " [11.7]\n",
      " [11.5]\n",
      " [27. ]\n",
      " [20.2]\n",
      " [11.7]\n",
      " [11.8]\n",
      " [12.6]\n",
      " [10.5]\n",
      " [12.2]\n",
      " [ 8.7]\n",
      " [26.2]\n",
      " [17.6]\n",
      " [22.6]\n",
      " [10.3]\n",
      " [17.3]\n",
      " [15.9]\n",
      " [ 6.7]\n",
      " [10.8]\n",
      " [ 9.9]\n",
      " [ 5.9]\n",
      " [19.6]\n",
      " [17.3]\n",
      " [ 7.6]\n",
      " [ 9.7]\n",
      " [12.8]\n",
      " [25.5]\n",
      " [13.4]]\n"
     ]
    }
   ],
   "source": [
    "print(x)\n",
    "print(y)"
   ]
  },
  {
   "cell_type": "code",
   "execution_count": 23,
   "metadata": {},
   "outputs": [],
   "source": [
    "x_train, x_test, y_train, y_test = train_test_split(x, y)"
   ]
  },
  {
   "cell_type": "code",
   "execution_count": 24,
   "metadata": {},
   "outputs": [
    {
     "name": "stdout",
     "output_type": "stream",
     "text": [
      "[[ 25.6  39.    9.3]\n",
      " [217.7  33.5  59. ]\n",
      " [  8.6   2.1   1. ]\n",
      " [238.2  34.3   5.3]\n",
      " [135.2  41.7  45.9]\n",
      " [210.8  49.6  37.7]\n",
      " [255.4  26.9   5.5]\n",
      " [109.8  14.3  31.7]\n",
      " [218.5   5.4  27.4]\n",
      " [107.4  14.   10.9]\n",
      " [123.1  34.6  12.4]\n",
      " [239.3  15.5  27.3]\n",
      " [ 19.4  16.   22.3]\n",
      " [  0.7  39.6   8.7]\n",
      " [ 76.3  27.5  16. ]\n",
      " [129.4   5.7  31.3]\n",
      " [175.1  22.5  31.5]\n",
      " [ 25.1  25.7  43.3]\n",
      " [197.6   3.5   5.9]\n",
      " [110.7  40.6  63.2]\n",
      " [ 89.7   9.9  35.7]\n",
      " [222.4   4.3  49.8]\n",
      " [ 75.3  20.3  32.5]\n",
      " [134.3   4.9   9.3]\n",
      " [ 23.8  35.1  65.9]\n",
      " [168.4   7.1  12.8]\n",
      " [199.1  30.6  38.7]\n",
      " [ 53.5   2.   21.4]\n",
      " [218.4  27.7  53.4]\n",
      " [237.4  27.5  11. ]\n",
      " [273.7  28.9  59.7]\n",
      " [248.8  27.1  22.9]\n",
      " [166.8  42.    3.6]\n",
      " [227.2  15.8  49.9]\n",
      " [165.6  10.   17.6]\n",
      " [ 38.2   3.7  13.8]\n",
      " [ 66.1   5.8  24.2]\n",
      " [  8.4  27.2   2.1]\n",
      " [ 57.5  32.8  23.5]\n",
      " [216.4  41.7  39.6]\n",
      " [120.2  19.6  11.6]\n",
      " [172.5  18.1  30.7]\n",
      " [204.1  32.9  46. ]\n",
      " [222.4   3.4  13.1]\n",
      " [284.3  10.6   6.4]\n",
      " [ 70.6  16.   40.8]\n",
      " [240.1   7.3   8.7]\n",
      " [ 97.5   7.6   7.2]\n",
      " [ 39.5  41.1   5.8]\n",
      " [177.    9.3   6.4]\n",
      " [182.6  46.2  58.7]\n",
      " [141.3  26.8  46.2]\n",
      " [250.9  36.5  72.3]\n",
      " [276.7   2.3  23.7]\n",
      " [ 67.8  36.6 114. ]\n",
      " [195.4  47.7  52.9]\n",
      " [ 17.2   4.1  31.6]\n",
      " [177.   33.4  38.7]\n",
      " [290.7   4.1   8.5]\n",
      " [ 66.9  11.7  36.8]\n",
      " [125.7  36.9  79.2]\n",
      " [ 13.2  15.9  49.6]\n",
      " [220.3  49.    3.2]\n",
      " [ 11.7  36.9  45.2]\n",
      " [164.5  20.9  47.4]\n",
      " [136.2  19.2  16.6]\n",
      " [289.7  42.3  51.2]\n",
      " [ 48.3  47.    8.5]\n",
      " [140.3   1.9   9. ]\n",
      " [ 62.3  12.6  18.3]\n",
      " [ 90.4   0.3  23.2]\n",
      " [ 17.9  37.6  21.6]\n",
      " [188.4  18.1  25.6]\n",
      " [239.8   4.1  36.9]\n",
      " [ 74.7  49.4  45.7]\n",
      " [ 43.   25.9  20.5]\n",
      " [ 87.2  11.8  25.9]\n",
      " [205.   45.1  19.6]\n",
      " [ 44.5  39.3  45.1]\n",
      " [163.3  31.6  52.9]\n",
      " [199.8   3.1  34.6]\n",
      " [206.8   5.2  19.4]\n",
      " [ 69.    9.3   0.9]\n",
      " [142.9  29.3  12.6]\n",
      " [ 80.2   0.    9.2]\n",
      " [147.3  23.9  19.1]\n",
      " [237.4   5.1  23.5]\n",
      " [187.9  17.2  17.9]\n",
      " [265.2   2.9  43. ]\n",
      " [216.8  43.9  27.2]\n",
      " [266.9  43.8   5. ]\n",
      " [286.   13.9   3.7]\n",
      " [206.9   8.4  26.4]\n",
      " [228.   37.7  32. ]\n",
      " [117.2  14.7   5.4]\n",
      " [224.    2.4  15.6]\n",
      " [243.2  49.   44.3]\n",
      " [219.8  33.5  45.1]\n",
      " [210.7  29.5   9.3]\n",
      " [262.7  28.8  15.9]\n",
      " [ 73.4  17.   12.9]\n",
      " [296.4  36.3 100.9]\n",
      " [280.2  10.1  21.4]\n",
      " [228.3  16.9  26.2]\n",
      " [ 18.8  21.7  50.4]\n",
      " [240.1  16.7  22.9]\n",
      " [187.8  21.1   9.5]\n",
      " [ 50.   11.6  18.4]\n",
      " [120.5  28.5  14.2]\n",
      " [170.2   7.8  35.2]\n",
      " [139.2  14.3  25.6]\n",
      " [241.7  38.   23.2]\n",
      " [ 44.7  25.8  20.6]\n",
      " [184.9  21.   22. ]\n",
      " [213.5  43.   33.8]\n",
      " [ 27.5   1.6  20.7]\n",
      " [131.7  18.4  34.6]\n",
      " [ 38.   40.3  11.9]\n",
      " [197.6  23.3  14.2]\n",
      " [ 96.2  14.8  38.9]\n",
      " [287.6  43.   71.8]\n",
      " [ 76.4   0.8  14.8]\n",
      " [230.1  37.8  69.2]\n",
      " [109.8  47.8  51.4]\n",
      " [121.    8.4  48.7]\n",
      " [ 13.1   0.4  25.6]\n",
      " [ 95.7   1.4   7.4]\n",
      " [215.4  23.6  57.6]\n",
      " [ 43.1  26.7  35.1]\n",
      " [213.4  24.6  13.1]\n",
      " [ 56.2   5.7  29.7]\n",
      " [ 19.6  20.1  17. ]\n",
      " [262.9   3.5  19.5]\n",
      " [151.5  41.3  58.5]\n",
      " [225.8   8.2  56.5]\n",
      " [193.7  35.4  75.6]\n",
      " [184.9  43.9   1.7]\n",
      " [102.7  29.6   8.4]\n",
      " [ 28.6   1.5  33. ]\n",
      " [202.5  22.3  31.6]\n",
      " [229.5  32.3  74.2]\n",
      " [239.9  41.5  18.5]\n",
      " [ 97.2   1.5  30. ]\n",
      " [ 69.2  20.5  18.3]\n",
      " [199.8   2.6  21.2]\n",
      " [ 68.4  44.5  35.6]\n",
      " [248.4  30.2  20.3]\n",
      " [261.3  42.7  54.7]\n",
      " [ 88.3  25.5  73.4]\n",
      " [ 26.8  33.   19.3]]\n",
      "[[ 9.5]\n",
      " [19.4]\n",
      " [ 4.8]\n",
      " [20.7]\n",
      " [17.2]\n",
      " [23.8]\n",
      " [19.8]\n",
      " [12.4]\n",
      " [12.2]\n",
      " [11.5]\n",
      " [15.2]\n",
      " [15.7]\n",
      " [ 6.6]\n",
      " [ 1.6]\n",
      " [12. ]\n",
      " [11. ]\n",
      " [14.9]\n",
      " [ 8.5]\n",
      " [11.7]\n",
      " [16. ]\n",
      " [10.6]\n",
      " [11.7]\n",
      " [11.3]\n",
      " [11.2]\n",
      " [ 9.2]\n",
      " [11.7]\n",
      " [18.3]\n",
      " [ 8.1]\n",
      " [18. ]\n",
      " [18.9]\n",
      " [20.8]\n",
      " [18.9]\n",
      " [19.6]\n",
      " [14.8]\n",
      " [12.6]\n",
      " [ 7.6]\n",
      " [ 8.6]\n",
      " [ 5.7]\n",
      " [11.8]\n",
      " [22.6]\n",
      " [13.2]\n",
      " [14.4]\n",
      " [19. ]\n",
      " [11.5]\n",
      " [15. ]\n",
      " [10.5]\n",
      " [13.2]\n",
      " [ 9.7]\n",
      " [10.8]\n",
      " [12.8]\n",
      " [21.2]\n",
      " [15.5]\n",
      " [22.2]\n",
      " [11.8]\n",
      " [12.5]\n",
      " [22.4]\n",
      " [ 5.9]\n",
      " [17.1]\n",
      " [12.8]\n",
      " [ 9.7]\n",
      " [15.9]\n",
      " [ 5.6]\n",
      " [24.7]\n",
      " [ 7.3]\n",
      " [14.5]\n",
      " [13.2]\n",
      " [25.4]\n",
      " [11.6]\n",
      " [10.3]\n",
      " [ 9.7]\n",
      " [ 8.7]\n",
      " [ 8. ]\n",
      " [14.9]\n",
      " [12.3]\n",
      " [14.7]\n",
      " [ 9.6]\n",
      " [10.6]\n",
      " [22.6]\n",
      " [10.4]\n",
      " [16.9]\n",
      " [11.4]\n",
      " [12.2]\n",
      " [ 9.3]\n",
      " [15. ]\n",
      " [ 8.8]\n",
      " [14.6]\n",
      " [12.5]\n",
      " [14.7]\n",
      " [12.7]\n",
      " [22.3]\n",
      " [25.4]\n",
      " [15.9]\n",
      " [12.9]\n",
      " [21.5]\n",
      " [11.9]\n",
      " [11.6]\n",
      " [25.4]\n",
      " [19.6]\n",
      " [18.4]\n",
      " [20.2]\n",
      " [10.9]\n",
      " [23.8]\n",
      " [14.8]\n",
      " [15.5]\n",
      " [ 7. ]\n",
      " [15.9]\n",
      " [15.6]\n",
      " [ 8.4]\n",
      " [14.2]\n",
      " [11.7]\n",
      " [12.2]\n",
      " [21.8]\n",
      " [10.1]\n",
      " [15.5]\n",
      " [21.7]\n",
      " [ 6.9]\n",
      " [12.9]\n",
      " [10.9]\n",
      " [16.6]\n",
      " [11.4]\n",
      " [26.2]\n",
      " [ 9.4]\n",
      " [22.1]\n",
      " [16.7]\n",
      " [11.6]\n",
      " [ 5.3]\n",
      " [ 9.5]\n",
      " [17.1]\n",
      " [10.1]\n",
      " [17. ]\n",
      " [ 8.7]\n",
      " [ 7.6]\n",
      " [12. ]\n",
      " [18.5]\n",
      " [13.4]\n",
      " [19.2]\n",
      " [20.7]\n",
      " [14. ]\n",
      " [ 7.3]\n",
      " [16.6]\n",
      " [19.7]\n",
      " [23.2]\n",
      " [ 9.6]\n",
      " [11.3]\n",
      " [10.6]\n",
      " [13.6]\n",
      " [20.2]\n",
      " [24.2]\n",
      " [12.9]\n",
      " [ 8.8]]\n"
     ]
    }
   ],
   "source": [
    "print(x_train)\n",
    "print(y_train)"
   ]
  },
  {
   "cell_type": "code",
   "execution_count": 25,
   "metadata": {},
   "outputs": [
    {
     "name": "stdout",
     "output_type": "stream",
     "text": [
      "150 50\n"
     ]
    }
   ],
   "source": [
    "print(len(x_train),len(x_test))"
   ]
  },
  {
   "cell_type": "markdown",
   "metadata": {},
   "source": [
    "Analysis"
   ]
  },
  {
   "cell_type": "markdown",
   "metadata": {},
   "source": [
    "Now we will train and predict the data based on several regression models:"
   ]
  },
  {
   "cell_type": "markdown",
   "metadata": {},
   "source": [
    "Linear\n",
    "\n",
    "Random Forest\n",
    "\n",
    "Decision Tree\n",
    "\n",
    "Support Vector\n",
    "\n",
    "Polynomial\n",
    "\n",
    "For each regression model, we will evaluate its r2_score and root mean squared error (RMSE). The higher r2_score the better; the lower RMSE, the better.\n",
    "\n"
   ]
  },
  {
   "cell_type": "markdown",
   "metadata": {},
   "source": [
    "Linear Regression"
   ]
  },
  {
   "cell_type": "code",
   "execution_count": 26,
   "metadata": {},
   "outputs": [
    {
     "name": "stdout",
     "output_type": "stream",
     "text": [
      "0.8780333458947293\n",
      "1.9018757577726995\n"
     ]
    }
   ],
   "source": [
    "lr_regressor = LinearRegression() # instantiate the Linear Regression module\n",
    "lr_regressor.fit(x_train, y_train) # training the data\n",
    "\n",
    "# after training the data, perform prediction:\n",
    "\n",
    "y_pred_lr = lr_regressor.predict(x_test) # this is the prediction \n",
    "\n",
    "# evaluate the r2_score and RMSE between prediction and real data\n",
    "\n",
    "print(r2_score(y_test, y_pred_lr))\n",
    "print(mse(y_test, y_pred_lr)**0.5)"
   ]
  },
  {
   "cell_type": "code",
   "execution_count": 27,
   "metadata": {},
   "outputs": [
    {
     "name": "stdout",
     "output_type": "stream",
     "text": [
      "[[0.04309974 0.19253857 0.00804775]] [3.04248487]\n"
     ]
    }
   ],
   "source": [
    "print(lr_regressor.coef_, lr_regressor.intercept_)\n"
   ]
  },
  {
   "cell_type": "code",
   "execution_count": 28,
   "metadata": {},
   "outputs": [
    {
     "data": {
      "text/plain": [
       "Index(['TV', 'radio', 'newspaper', 'sales'], dtype='object')"
      ]
     },
     "execution_count": 28,
     "metadata": {},
     "output_type": "execute_result"
    }
   ],
   "source": [
    "df.columns"
   ]
  },
  {
   "cell_type": "markdown",
   "metadata": {},
   "source": [
    "Linear Regression model shows that:\n",
    "\n",
    "Sales = 3.50 TV + 0.14 Radio + 0.03 Social Media - 0.43 Macro + 0.13 Mega + 0.07 Micro + 0.22 Nano"
   ]
  },
  {
   "cell_type": "markdown",
   "metadata": {},
   "source": [
    "Random Forest Regression"
   ]
  },
  {
   "cell_type": "code",
   "execution_count": 29,
   "metadata": {},
   "outputs": [
    {
     "name": "stdout",
     "output_type": "stream",
     "text": [
      "0.9626136952955426\n",
      "1.0529745106126713\n"
     ]
    }
   ],
   "source": [
    "rf_regressor = RandomForestRegressor() # instantiate the Random Forest Regression module\n",
    "rf_regressor.fit(x_train, y_train) # training the data\n",
    "\n",
    "# after training the data, perform prediction:\n",
    "\n",
    "y_pred_rf = rf_regressor.predict(x_test) # prediction data\n",
    "\n",
    "# evaluate the r2_score and RMSE between prediction and real data\n",
    "\n",
    "print(r2_score(y_test, y_pred_rf))\n",
    "print(mse(y_test, y_pred_rf)**0.5)\n"
   ]
  },
  {
   "cell_type": "markdown",
   "metadata": {},
   "source": [
    "Decision Tree Regression"
   ]
  },
  {
   "cell_type": "code",
   "execution_count": 30,
   "metadata": {},
   "outputs": [
    {
     "name": "stdout",
     "output_type": "stream",
     "text": [
      "0.9598404732768191\n",
      "1.0913294644606644\n"
     ]
    }
   ],
   "source": [
    "# Similar processes with the above two examples\n",
    "\n",
    "dt_regressor = DecisionTreeRegressor()\n",
    "dt_regressor.fit(x_train, y_train)\n",
    "\n",
    "y_pred_dt = dt_regressor.predict(x_test)\n",
    "\n",
    "print(r2_score(y_test, y_pred_dt))\n",
    "print(mse(y_test, y_pred_dt)**0.5)"
   ]
  },
  {
   "cell_type": "markdown",
   "metadata": {},
   "source": [
    "Support Vector Regression\n",
    "For SVR, we need to perform feature scaling. In short, this is required because of some mathematical assumptions. So first we will perform feature scaling:\n",
    "\n"
   ]
  },
  {
   "cell_type": "markdown",
   "metadata": {},
   "source": [
    "Feature Scaling for Support Vector Regression\n",
    "To avoid confusion of variable names, we will create new independent and dependent variable names: a and b"
   ]
  },
  {
   "cell_type": "code",
   "execution_count": 31,
   "metadata": {},
   "outputs": [],
   "source": [
    "a = df.iloc[:,0:-1].values\n",
    "b = df.iloc[:,-1:].values\n",
    "\n",
    "# reshape b\n",
    "\n",
    "b = b.reshape(len(b), 1)"
   ]
  },
  {
   "cell_type": "code",
   "execution_count": 32,
   "metadata": {},
   "outputs": [],
   "source": [
    "# now we split to train and test\n",
    "\n",
    "a_train, a_test, b_train, b_test = train_test_split(a, b)"
   ]
  },
  {
   "cell_type": "code",
   "execution_count": 33,
   "metadata": {},
   "outputs": [],
   "source": [
    "# now perform scaling\n",
    "\n",
    "scala = StandardScaler()\n",
    "scalb = StandardScaler()\n",
    "\n",
    "a_train = scala.fit_transform(a_train)\n",
    "b_train = scalb.fit_transform(b_train)"
   ]
  },
  {
   "cell_type": "code",
   "execution_count": 34,
   "metadata": {},
   "outputs": [
    {
     "data": {
      "text/plain": [
       "SVR()"
      ]
     },
     "execution_count": 34,
     "metadata": {},
     "output_type": "execute_result"
    }
   ],
   "source": [
    "# training the SVR \n",
    "\n",
    "sv_regressor = SVR()\n",
    "sv_regressor.fit(a_train, b_train)"
   ]
  },
  {
   "cell_type": "code",
   "execution_count": 35,
   "metadata": {},
   "outputs": [],
   "source": [
    "# create the prediction\n",
    "\n",
    "b_pred = scalb.inverse_transform(sv_regressor.predict(scala.transform(a_test)))"
   ]
  },
  {
   "cell_type": "code",
   "execution_count": 36,
   "metadata": {},
   "outputs": [
    {
     "name": "stdout",
     "output_type": "stream",
     "text": [
      "0.9736761588109035\n",
      "0.7843544224687297\n"
     ]
    }
   ],
   "source": [
    "# evaluate the model\n",
    "\n",
    "print(r2_score(b_test, b_pred))\n",
    "print(mse(b_test, b_pred)**0.5)"
   ]
  },
  {
   "cell_type": "markdown",
   "metadata": {},
   "source": [
    "olynomial Regression\n",
    "For Polynomial Regression, we also have to perform polynomial feature scaling.\n",
    "\n"
   ]
  },
  {
   "cell_type": "code",
   "execution_count": 37,
   "metadata": {},
   "outputs": [
    {
     "data": {
      "text/plain": [
       "LinearRegression()"
      ]
     },
     "execution_count": 37,
     "metadata": {},
     "output_type": "execute_result"
    }
   ],
   "source": [
    "poly = PolynomialFeatures()\n",
    "po_regressor = LinearRegression()\n",
    "\n",
    "# training the data\n",
    "\n",
    "po_regressor.fit(poly.fit_transform(x_train), y_train)"
   ]
  },
  {
   "cell_type": "code",
   "execution_count": 38,
   "metadata": {},
   "outputs": [
    {
     "name": "stdout",
     "output_type": "stream",
     "text": [
      "0.9861106751068139\n",
      "0.6418036108526877\n"
     ]
    }
   ],
   "source": [
    "# prediction training\n",
    "\n",
    "y_pred_po = po_regressor.predict(poly.fit_transform(x_test))\n",
    "\n",
    "# evaluate the model\n",
    "\n",
    "print(r2_score(y_test, y_pred_po))\n",
    "print(mse(y_test, y_pred_po)**0.5)"
   ]
  },
  {
   "cell_type": "code",
   "execution_count": null,
   "metadata": {},
   "outputs": [],
   "source": [
    "from sklearn.model_selection import Gridsearch_Cv\n",
    "Gridsearch_Cv()\n",
    "param_grid = {  'bootstrap': [True], 'max_depth': [5, 10, None], 'max_features': ['auto', 'log2'], 'n_estimators': [5, 6, 7, 8, 9, 10, 11, 12, 13, 15]}"
   ]
  },
  {
   "cell_type": "code",
   "execution_count": null,
   "metadata": {},
   "outputs": [],
   "source": [
    "rfr = RandomForestRegressor(random_state = 1)\n",
    "\n",
    "g_search = GridSearchCV(estimator = rfr, param_grid = param_grid, \n",
    "\n",
    "                          cv = 3, n_jobs = 1, verbose = 0, return_train_score=True)"
   ]
  },
  {
   "cell_type": "code",
   "execution_count": null,
   "metadata": {},
   "outputs": [],
   "source": [
    "g_search.fit(X_train, y_train);\n",
    "\n",
    "print(g_search.best_params_)"
   ]
  },
  {
   "cell_type": "code",
   "execution_count": null,
   "metadata": {},
   "outputs": [],
   "source": [
    "print(best_grid.score(X_test, y_test))"
   ]
  },
  {
   "cell_type": "markdown",
   "metadata": {},
   "source": [
    "Model Evaluation"
   ]
  },
  {
   "cell_type": "markdown",
   "metadata": {},
   "source": [
    "Based on our analysis, it can be inferred that Support Vector Regression yields the highest R2 score and lowest RMSE. Thus, SVR will be the chosen model. We can use SVR model to predict the sales based on the input strategy.\n",
    "Based on linear regression, we can infer that we can focus on TV, Radio, and Nano Influencer. We can cut budget related to other factors.\n"
   ]
  },
  {
   "cell_type": "markdown",
   "metadata": {},
   "source": [
    "Concluding Remarks\n",
    "I want this notebook to be as understandable as possible so students or people like me who are from math background can infer easily what is happening in each line of code.\n",
    "I understand there will be several math/ML/any other assumptions that I might have skipped in this notebook (e.g. assumptions for Linear Regression, feature scaling, parameter tuning). Please let me know in the comments to improve it.\n",
    "Overall, this is part of my learning journey as well as a business management scholar. So, I will just focus on the 'broad overview' of the algorithms, and shed a light more on making sense of how data can be used for better decision making\n",
    "You can upvote if you like this notebook. Happy (machine) learning!"
   ]
  },
  {
   "cell_type": "code",
   "execution_count": null,
   "metadata": {},
   "outputs": [],
   "source": [
    "from sklearn_model_selection import cross_val_score\n",
    "scr=cross_val_score(LR,x,y,cv=5)\n",
    "print(\"cross validation score:\",scr.mean())"
   ]
  },
  {
   "cell_type": "code",
   "execution_count": null,
   "metadata": {},
   "outputs": [],
   "source": [
    "from sklearn_model_selection import cross_val_score\n",
    "scr=cross_val_score(dt,x,y,cv=5)\n",
    "print(\"cross validation score Decision Tee:\",scr.mean())"
   ]
  },
  {
   "cell_type": "code",
   "execution_count": null,
   "metadata": {},
   "outputs": [],
   "source": [
    "from sklearn_model_selection import cross_val_score\n",
    "scr=cross_val_score(rf,x,y,cv=5)\n",
    "print(\"cross validation score Random Forest:\",scr.mean())"
   ]
  },
  {
   "cell_type": "code",
   "execution_count": null,
   "metadata": {},
   "outputs": [],
   "source": [
    "from sklearn_model_selection import GridSearchCv"
   ]
  },
  {
   "cell_type": "code",
   "execution_count": null,
   "metadata": {},
   "outputs": [],
   "source": [
    "parameters={'n_estimetors'[200,700]:.\n",
    "           'max_features':[]\n",
    "            'max_depth':[] }"
   ]
  },
  {
   "cell_type": "code",
   "execution_count": null,
   "metadata": {},
   "outputs": [],
   "source": [
    "GCV=GridSearchCv(RandomForestClassifier(),parameters,cv=5)"
   ]
  },
  {
   "cell_type": "code",
   "execution_count": null,
   "metadata": {},
   "outputs": [],
   "source": [
    "GCV.fit(x_train,y_train)"
   ]
  },
  {
   "cell_type": "code",
   "execution_count": null,
   "metadata": {},
   "outputs": [],
   "source": [
    "GCV.best_parameters_"
   ]
  },
  {
   "cell_type": "code",
   "execution_count": null,
   "metadata": {},
   "outputs": [],
   "source": [
    "mod=RandomForestClasifier(criterion='',)\n",
    "mod.fit(x_train,y_train)\n",
    "pred=mod.predict(x_test)\n",
    "print(acccuracy_acore(y_test,pred)*100)"
   ]
  },
  {
   "cell_type": "code",
   "execution_count": null,
   "metadata": {},
   "outputs": [],
   "source": [
    "import joblib\n",
    "joblib.dump(mod,\"sonarmodel.pkl\")"
   ]
  }
 ],
 "metadata": {
  "kernelspec": {
   "display_name": "Python 3",
   "language": "python",
   "name": "python3"
  },
  "language_info": {
   "codemirror_mode": {
    "name": "ipython",
    "version": 3
   },
   "file_extension": ".py",
   "mimetype": "text/x-python",
   "name": "python",
   "nbconvert_exporter": "python",
   "pygments_lexer": "ipython3",
   "version": "3.8.5"
  }
 },
 "nbformat": 4,
 "nbformat_minor": 4
}
